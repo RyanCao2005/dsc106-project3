{
 "cells": [
  {
   "cell_type": "code",
   "execution_count": 1,
   "id": "3cf8eea2-a40a-4d56-b6e7-c74c9dae7e95",
   "metadata": {},
   "outputs": [],
   "source": [
    "import pandas as pd"
   ]
  },
  {
   "cell_type": "code",
   "execution_count": 5,
   "id": "d474a7a3-59d6-4c95-8122-10bc51e744ef",
   "metadata": {},
   "outputs": [],
   "source": [
    "fem_act_df = pd.read_csv('dsc106-project3/data/fem_act.csv')\n",
    "fem_temp_df = pd.read_csv('dsc106-project3/data/fem_temp.csv')\n",
    "male_act_df = pd.read_csv('dsc106-project3/data/male_act.csv')\n",
    "male_temp_df = pd.read_csv('dsc106-project3/data/male_temp.csv')"
   ]
  },
  {
   "cell_type": "code",
   "execution_count": null,
   "id": "19cfa1c3-15bf-42a5-bccb-673c62b96cfc",
   "metadata": {},
   "outputs": [],
   "source": []
  }
 ],
 "metadata": {
  "kernelspec": {
   "display_name": "Python 3 (ipykernel)",
   "language": "python",
   "name": "python3"
  },
  "language_info": {
   "codemirror_mode": {
    "name": "ipython",
    "version": 3
   },
   "file_extension": ".py",
   "mimetype": "text/x-python",
   "name": "python",
   "nbconvert_exporter": "python",
   "pygments_lexer": "ipython3",
   "version": "3.12.6"
  }
 },
 "nbformat": 4,
 "nbformat_minor": 5
}
